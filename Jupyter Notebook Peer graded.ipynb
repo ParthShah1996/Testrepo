{
 "cells": [
  {
   "cell_type": "markdown",
   "metadata": {},
   "source": [
    "<center>\n",
    "    <img src=\"https://s3-api.us-geo.objectstorage.softlayer.net/cf-courses-data/CognitiveClass/Logos/organization_logo/organization_logo.png\" width=\"300\" alt=\"cognitiveclass.ai logo\"  />\n",
    "</center>\n"
   ]
  },
  {
   "cell_type": "markdown",
   "metadata": {},
   "source": [
    "#### Add your code below following the instructions given in the course\n"
   ]
  },
  {
   "cell_type": "markdown",
   "metadata": {},
   "source": [
    "# My Jupyter Notebook on IBM Watson Studio"
   ]
  },
  {
   "cell_type": "markdown",
   "metadata": {},
   "source": [
    "**My name is Parth Shah. Currently I'm a Process Control Engineer.**"
   ]
  },
  {
   "cell_type": "markdown",
   "metadata": {},
   "source": [
    "*I'm interested in data science because my company is involved in manufacturing of aerospace components and i want to improve the overall efficiency of the process using data analysis on the historical data we have at the company.*"
   ]
  },
  {
   "cell_type": "markdown",
   "metadata": {},
   "source": [
    "### The code given below will produce 2 random integers between 1 to 100 and calculate the sum of both and print it."
   ]
  },
  {
   "cell_type": "code",
   "execution_count": 35,
   "metadata": {},
   "outputs": [
    {
     "name": "stdout",
     "output_type": "stream",
     "text": [
      "The two random integers generated are 60 and 24\n",
      "The sum of both numbers is 84\n"
     ]
    }
   ],
   "source": [
    "import random as r\n",
    "\n",
    "x1 = r.randint(1,100)\n",
    "x2 = r.randint(1,100)\n",
    "\n",
    "x = x1 + x2\n",
    "\n",
    "print(\"The two random integers generated are %d and %d\" % (x1, x2))\n",
    "print(\"The sum of both numbers is %d\" % (x))"
   ]
  },
  {
   "cell_type": "markdown",
   "metadata": {},
   "source": [
    "```Table to demonstrate examples generated from the above python code.```\n",
    "****\n",
    "\n",
    "The table consists of the following: \n",
    "\n",
    "1. The random integers generated\n",
    "2. The sum of both integers\n",
    "\n",
    "\n",
    "| Example   | First Number  | Second Number | Sum |\n",
    "| ------|------|------|------| \n",
    "| 1 | 23 | 65 | 88 |\n",
    "| 2 | 34 | 12 | 46 |\n",
    "| 3 | 45| 26 | 71 |\n"
   ]
  }
 ],
 "metadata": {
  "kernelspec": {
   "display_name": "Python",
   "language": "python",
   "name": "conda-env-python-py"
  },
  "language_info": {
   "codemirror_mode": {
    "name": "ipython",
    "version": 3
   },
   "file_extension": ".py",
   "mimetype": "text/x-python",
   "name": "python",
   "nbconvert_exporter": "python",
   "pygments_lexer": "ipython3",
   "version": "3.7.12"
  }
 },
 "nbformat": 4,
 "nbformat_minor": 4
}
